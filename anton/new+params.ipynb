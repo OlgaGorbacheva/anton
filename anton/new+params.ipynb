{
 "cells": [
  {
   "cell_type": "code",
   "execution_count": 5,
   "metadata": {
    "collapsed": true
   },
   "outputs": [],
   "source": [
    "import numpy as np\n",
    "import scipy as sc\n",
    "from scipy import stats"
   ]
  },
  {
   "cell_type": "code",
   "execution_count": 97,
   "metadata": {
    "collapsed": true
   },
   "outputs": [],
   "source": [
    "T = 1000\n",
    "n = 23\n",
    "N = 1000"
   ]
  },
  {
   "cell_type": "code",
   "execution_count": 55,
   "metadata": {
    "collapsed": false
   },
   "outputs": [],
   "source": [
    "%matplotlib inline\n",
    "import matplotlib.pyplot as plt"
   ]
  },
  {
   "cell_type": "code",
   "execution_count": 60,
   "metadata": {
    "collapsed": false
   },
   "outputs": [
    {
     "data": {
      "image/png": "[encoded data removed]",
      "text/plain": [
       "<Figure size 432x288 with 1 Axes>"
      ]
     },
     "metadata": {},
     "output_type": "display_data"
    }
   ],
   "source": [
    "bins = np.linspace(0, 1, n + 1)\n",
    "bin_centers = 0.5 * (bins[1:] + bins[:-1])\n",
    "pdf_1 = stats.norm.pdf(bin_centers, loc = 0.5, scale=0.05)\n",
    "pdf_1 = pdf_1 / pdf_1.sum()\n",
    "pdf_2 = stats.norm.pdf(bin_centers, loc = 0.5, scale=0.03)\n",
    "pdf_2 = pdf_2 / pdf_2.sum()\n",
    "#plt.figure(figsize=(6, 4))\n",
    "plt.plot(bin_centers, pdf_1, '.-', label=\"f_0\")\n",
    "plt.plot(bin_centers, pdf_2, '.-', label=\"f_T\")\n",
    "plt.legend()\n",
    "plt.show()"
   ]
  },
  {
   "cell_type": "code",
   "execution_count": 76,
   "metadata": {
    "collapsed": false
   },
   "outputs": [
    {
     "name": "stdout",
     "output_type": "stream",
     "text": [
      "10\n"
     ]
    }
   ],
   "source": [
    "print(T)"
   ]
  },
  {
   "cell_type": "code",
   "execution_count": 86,
   "metadata": {
    "collapsed": false
   },
   "outputs": [
    {
     "name": "stdout",
     "output_type": "stream",
     "text": [
      "[0.0, 0.0, 0.0, 0.0, 0.0, 0.0, 0.0, -0.003544810053532088, -0.007574717232267647, -0.01096052839714284, 0.0014726020654829116, 0.06224351793219241, -0.002233919263147366, -0.3468382837434579, 0.008336034429932101, 0.2991001042619404, 0.0, 0.0, 0.0, 0.0, 0.0, 0.0, 0.0]\n"
     ]
    }
   ],
   "source": [
    "u = np.zeros(n)\n",
    "for i in range(n - 1):\n",
    "    if (abs(pdf_1[i + 1]) > 0.001):\n",
    "        u[i + 1] = (u[i] * pdf_1[i] - pdf_1[i] + pdf_2[i]) / (pdf_1[i + 1] * T)\n",
    "    \n",
    "np.set_printoptions(formatter={'float_kind':lambda x: \"%.7f\" % x})\n",
    "div_u = [u[1] - u[0], *list((u[2:] - u[:-2])/2), u[n - 1] - u[n - 2]] #На краях производные другие\n",
    "print(div_u)"
   ]
  },
  {
   "cell_type": "code",
   "execution_count": 101,
   "metadata": {
    "collapsed": false
   },
   "outputs": [
    {
     "name": "stdout",
     "output_type": "stream",
     "text": [
      "1\n"
     ]
    }
   ],
   "source": [
    "f = np.zeros((T, n))\n",
    "f[0] = pdf_1\n",
    "count = 0\n",
    "for i in range(1, T - 1):\n",
    "    f[i][0] = f[i - 1][0] - f[i - 1][0] * div_u[0]\n",
    "    for j in range(1, n):\n",
    "        f[i][0] = f[i - 1][j] - (f[i - 1][j] - f[i - 1][j - 1]) -f[i - 1][j] * div_u[j]\n",
    "    f[i][f[i] < 0] = 0\n",
    "    if f[i].sum() != 0:\n",
    "        f[i] = f[i] / f[i].sum()\n",
    "        print(i)\n",
    "    else:\n",
    "        count += 1\n",
    "f[-1] = pdf_2"
   ]
  },
  {
   "cell_type": "code",
   "execution_count": 102,
   "metadata": {
    "collapsed": false
   },
   "outputs": [
    {
     "name": "stdout",
     "output_type": "stream",
     "text": [
      "997\n"
     ]
    }
   ],
   "source": [
    "print(count)"
   ]
  },
  {
   "cell_type": "code",
   "execution_count": null,
   "metadata": {
    "collapsed": true
   },
   "outputs": [],
   "source": []
  }
 ],
 "metadata": {
  "kernelspec": {
   "display_name": "python3.5",
   "language": "python",
   "name": "python3.5"
  },
  "language_info": {
   "codemirror_mode": {
    "name": "ipython",
    "version": 3
   },
   "file_extension": ".py",
   "mimetype": "text/x-python",
   "name": "python",
   "nbconvert_exporter": "python",
   "pygments_lexer": "ipython3",
   "version": "3.5.3"
  }
 },
 "nbformat": 4,
 "nbformat_minor": 2
}
