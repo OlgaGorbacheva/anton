{
 "cells": [
  {
   "cell_type": "code",
   "execution_count": 1,
   "metadata": {
    "collapsed": false
   },
   "outputs": [],
   "source": [
    "import pandas as pd\n",
    "import numpy as np\n",
    "from scipy import sparse\n",
    "from tqdm import tqdm"
   ]
  },
  {
   "cell_type": "code",
   "execution_count": 2,
   "metadata": {
    "collapsed": false
   },
   "outputs": [
    {
     "data": {
      "text/html": [
       "<div>\n",
       "<style scoped>\n",
       "    .dataframe tbody tr th:only-of-type {\n",
       "        vertical-align: middle;\n",
       "    }\n",
       "\n",
       "    .dataframe tbody tr th {\n",
       "        vertical-align: top;\n",
       "    }\n",
       "\n",
       "    .dataframe thead th {\n",
       "        text-align: right;\n",
       "    }\n",
       "</style>\n",
       "<table border=\"1\" class=\"dataframe\">\n",
       "  <thead>\n",
       "    <tr style=\"text-align: right;\">\n",
       "      <th></th>\n",
       "      <th>0</th>\n",
       "      <th>1</th>\n",
       "      <th>2</th>\n",
       "    </tr>\n",
       "  </thead>\n",
       "  <tbody>\n",
       "    <tr>\n",
       "      <th>0</th>\n",
       "      <td>1394351059</td>\n",
       "      <td>621.0</td>\n",
       "      <td>0.01</td>\n",
       "    </tr>\n",
       "    <tr>\n",
       "      <th>1</th>\n",
       "      <td>1394351073</td>\n",
       "      <td>620.0</td>\n",
       "      <td>0.01</td>\n",
       "    </tr>\n",
       "    <tr>\n",
       "      <th>2</th>\n",
       "      <td>1394427477</td>\n",
       "      <td>620.0</td>\n",
       "      <td>0.01</td>\n",
       "    </tr>\n",
       "    <tr>\n",
       "      <th>3</th>\n",
       "      <td>1394427596</td>\n",
       "      <td>620.5</td>\n",
       "      <td>0.01</td>\n",
       "    </tr>\n",
       "    <tr>\n",
       "      <th>4</th>\n",
       "      <td>1394427614</td>\n",
       "      <td>621.0</td>\n",
       "      <td>0.01</td>\n",
       "    </tr>\n",
       "  </tbody>\n",
       "</table>\n",
       "</div>"
      ],
      "text/plain": [
       "            0      1     2\n",
       "0  1394351059  621.0  0.01\n",
       "1  1394351073  620.0  0.01\n",
       "2  1394427477  620.0  0.01\n",
       "3  1394427596  620.5  0.01\n",
       "4  1394427614  621.0  0.01"
      ]
     },
     "execution_count": 2,
     "metadata": {},
     "output_type": "execute_result"
    }
   ],
   "source": [
    "df = pd.read_csv('1coinUSD.csv', header=None)\n",
    "df.head()"
   ]
  },
  {
   "cell_type": "code",
   "execution_count": 6,
   "metadata": {
    "collapsed": false
   },
   "outputs": [],
   "source": [
    "coin_val = df.values[:,1]"
   ]
  },
  {
   "cell_type": "code",
   "execution_count": 9,
   "metadata": {
    "collapsed": true
   },
   "outputs": [],
   "source": [
    "def normalize(arr):\n",
    "    max_val = np.max(arr)\n",
    "    min_val = np.min(arr)\n",
    "    arr = (arr - min_val) / max_val\n",
    "    return arr"
   ]
  },
  {
   "cell_type": "code",
   "execution_count": 10,
   "metadata": {
    "collapsed": false
   },
   "outputs": [],
   "source": [
    "coin_val_normed = normalize(coin_val)"
   ]
  },
  {
   "cell_type": "code",
   "execution_count": 11,
   "metadata": {
    "collapsed": false
   },
   "outputs": [
    {
     "name": "stdout",
     "output_type": "stream",
     "text": [
      "464 10000\n"
     ]
    }
   ],
   "source": [
    "import math\n",
    "T = 10000\n",
    "n = math.floor(math.pow(T, 2 / 3))\n",
    "print(n, T)"
   ]
  },
  {
   "cell_type": "code",
   "execution_count": 12,
   "metadata": {
    "collapsed": true
   },
   "outputs": [],
   "source": [
    "def distr_density(var, N):\n",
    "    f_T = np.zeros((n, ))\n",
    "    gist = []\n",
    "    for j in range(n):\n",
    "        a = j / n\n",
    "        b = (j + 1) / n\n",
    "        gist.append((a, b))\n",
    "        f_T[j] = np.sum(np.logical_and(var >= a, var < b))\n",
    "    return sparse.coo_matrix(f_T, dtype=np.int), np.array(gist)"
   ]
  },
  {
   "cell_type": "code",
   "execution_count": 13,
   "metadata": {
    "collapsed": false
   },
   "outputs": [
    {
     "name": "stdout",
     "output_type": "stream",
     "text": [
      "(1, 464)\n"
     ]
    }
   ],
   "source": [
    "dens, _ = distr_density(coin_val_normed[:T], n)\n",
    "print(dens.shape)"
   ]
  },
  {
   "cell_type": "code",
   "execution_count": 14,
   "metadata": {
    "collapsed": true
   },
   "outputs": [],
   "source": [
    "def get_gist_bin(gist, element):\n",
    "    for i, (a, b) in enumerate(gist):\n",
    "        if (a <= element < b):\n",
    "            return i"
   ]
  },
  {
   "cell_type": "code",
   "execution_count": 15,
   "metadata": {
    "collapsed": true
   },
   "outputs": [],
   "source": [
    "def window_distr_density(var, N):\n",
    "    f_T1, gist = distr_density(var[:T], N)\n",
    "    f_T_arr = [f_T1]\n",
    "    for i in tqdm(range(1, var.shape[0] - T)):\n",
    "        f_T_curr = f_T_arr[-1].toarray()\n",
    "        f_T_curr[0][get_gist_bin(gist, var[i - 1])] -= 1\n",
    "        f_T_curr[0][get_gist_bin(gist, var[i + T])] += 1\n",
    "        f_T_arr.append(sparse.coo_matrix(f_T_curr, dtype=np.int))\n",
    "    return sparse.vstack(f_T_arr)"
   ]
  },
  {
   "cell_type": "code",
   "execution_count": 16,
   "metadata": {
    "collapsed": false,
    "scrolled": true
   },
   "outputs": [
    {
     "name": "stderr",
     "output_type": "stream",
     "text": [
      "100%|██████████| 753850/753850 [08:47<00:00, 1429.08it/s]\n"
     ]
    }
   ],
   "source": [
    "densities = window_distr_density(coin_val_normed, n)\n",
    "#print(densities)"
   ]
  },
  {
   "cell_type": "code",
   "execution_count": 47,
   "metadata": {
    "collapsed": false,
    "scrolled": true
   },
   "outputs": [
    {
     "data": {
      "text/plain": [
       "(753851, 464)"
      ]
     },
     "execution_count": 47,
     "metadata": {},
     "output_type": "execute_result"
    }
   ],
   "source": [
    "densities.shape"
   ]
  },
  {
   "cell_type": "code",
   "execution_count": 17,
   "metadata": {
    "collapsed": true
   },
   "outputs": [],
   "source": [
    "sparse.save_npz(\"densities.npz\", densities)"
   ]
  },
  {
   "cell_type": "code",
   "execution_count": 18,
   "metadata": {
    "collapsed": true
   },
   "outputs": [],
   "source": [
    "def get_increases(var):\n",
    "    v = np.zeros(var.shape[0])\n",
    "    for i in tqdm(range(var.shape[0] - 1)):\n",
    "        v[i + 1] = var[i + 1] - v[i]\n",
    "    return v"
   ]
  },
  {
   "cell_type": "code",
   "execution_count": 19,
   "metadata": {
    "collapsed": false
   },
   "outputs": [
    {
     "name": "stderr",
     "output_type": "stream",
     "text": [
      "100%|██████████| 763850/763850 [00:00<00:00, 956595.50it/s]\n"
     ]
    }
   ],
   "source": [
    "inc = get_increases(coin_val_normed)"
   ]
  },
  {
   "cell_type": "code",
   "execution_count": 16,
   "metadata": {
    "collapsed": false
   },
   "outputs": [
    {
     "name": "stdout",
     "output_type": "stream",
     "text": [
      "(763851,)\n"
     ]
    }
   ],
   "source": [
    "print(inc.shape)"
   ]
  },
  {
   "cell_type": "code",
   "execution_count": 20,
   "metadata": {
    "collapsed": true
   },
   "outputs": [],
   "source": [
    "n_v = 100"
   ]
  },
  {
   "cell_type": "code",
   "execution_count": 21,
   "metadata": {
    "collapsed": true
   },
   "outputs": [],
   "source": [
    "def get_integrated(v_mean, matrix):\n",
    "    return np.array([np.sum(np.multiply(matrix[:, i]), v_mean) for i in range(matrix.shape[1])])"
   ]
  },
  {
   "cell_type": "code",
   "execution_count": 22,
   "metadata": {
    "collapsed": true
   },
   "outputs": [],
   "source": [
    "def joint_distr_density(var, v, N_v, N):\n",
    "    v_gist = [(j / N_v, (j + 1) / N_v) for j in range(N_v)]\n",
    "    v_mean = np.array([(a + b) / 2] for a, b in v_gist)\n",
    "    f_gist = [(j / N, (j + 1) / N) for j in range(N)]\n",
    "    v_c = v[:T]\n",
    "    var_c = var[:T]\n",
    "    f_c = []\n",
    "    for a, b in v_gist:\n",
    "        v_ind = np.logical_and(v_c >= a, v_c < b)\n",
    "        f, _ = distr_density(var_c[v_ind], n)\n",
    "        f_c.append(f.toarray())\n",
    "    f_c = np.array(f_c)\n",
    "    print(f_c.shape)\n",
    "    print(get_integrated(f_c, v_mean).shape)\n",
    "    f_joint = [sparse.coo_matrix(get_integrated(f_c, v_mean))]\n",
    "#     for i in tqdm(range(1, var.shape[0] - T)):\n",
    "#         f_c[get_gist_bin(v_gist, v[i - 1])][get_gist_bin(gist, var[i - 1])] -= 1\n",
    "#         f_c[get_gist_bin(v_gist, v[i + T])][get_gist_bin(gist, var[i + T])] += 1\n",
    "#         f_joint.append(sparse.coo_matrix(get_integrated(f_c, v_mean)))\n",
    "#     return sparse.vstack(f_joint) "
   ]
  },
  {
   "cell_type": "code",
   "execution_count": 23,
   "metadata": {
    "collapsed": false
   },
   "outputs": [
    {
     "ename": "IndexError",
     "evalue": "boolean index did not match indexed array along dimension 0; dimension is 10000 but corresponding boolean dimension is 763851",
     "output_type": "error",
     "traceback": [
      "\u001b[0;31m---------------------------------------------------------------------------\u001b[0m",
      "\u001b[0;31mIndexError\u001b[0m                                Traceback (most recent call last)",
      "\u001b[0;32m<ipython-input-23-b661d20427a7>\u001b[0m in \u001b[0;36m<module>\u001b[0;34m()\u001b[0m\n\u001b[0;32m----> 1\u001b[0;31m \u001b[0mjoint_d\u001b[0m \u001b[0;34m=\u001b[0m \u001b[0mjoint_distr_density\u001b[0m\u001b[0;34m(\u001b[0m\u001b[0mcoin_val\u001b[0m\u001b[0;34m,\u001b[0m \u001b[0minc\u001b[0m\u001b[0;34m,\u001b[0m \u001b[0mn_v\u001b[0m\u001b[0;34m,\u001b[0m \u001b[0mn\u001b[0m\u001b[0;34m)\u001b[0m\u001b[0;34m\u001b[0m\u001b[0m\n\u001b[0m",
      "\u001b[0;32m<ipython-input-22-7274062e5090>\u001b[0m in \u001b[0;36mjoint_distr_density\u001b[0;34m(var, v, N_v, N)\u001b[0m\n\u001b[1;32m      8\u001b[0m     \u001b[0;32mfor\u001b[0m \u001b[0ma\u001b[0m\u001b[0;34m,\u001b[0m \u001b[0mb\u001b[0m \u001b[0;32min\u001b[0m \u001b[0mv_gist\u001b[0m\u001b[0;34m:\u001b[0m\u001b[0;34m\u001b[0m\u001b[0m\n\u001b[1;32m      9\u001b[0m         \u001b[0mv_ind\u001b[0m \u001b[0;34m=\u001b[0m \u001b[0mnp\u001b[0m\u001b[0;34m.\u001b[0m\u001b[0mlogical_and\u001b[0m\u001b[0;34m(\u001b[0m\u001b[0mv\u001b[0m \u001b[0;34m>=\u001b[0m \u001b[0ma\u001b[0m\u001b[0;34m,\u001b[0m \u001b[0mv\u001b[0m \u001b[0;34m<\u001b[0m \u001b[0mb\u001b[0m\u001b[0;34m)\u001b[0m\u001b[0;34m\u001b[0m\u001b[0m\n\u001b[0;32m---> 10\u001b[0;31m         \u001b[0mf\u001b[0m\u001b[0;34m,\u001b[0m \u001b[0m_\u001b[0m \u001b[0;34m=\u001b[0m \u001b[0mdistr_density\u001b[0m\u001b[0;34m(\u001b[0m\u001b[0mvar_c\u001b[0m\u001b[0;34m[\u001b[0m\u001b[0mv_ind\u001b[0m\u001b[0;34m]\u001b[0m\u001b[0;34m,\u001b[0m \u001b[0mn\u001b[0m\u001b[0;34m)\u001b[0m\u001b[0;34m\u001b[0m\u001b[0m\n\u001b[0m\u001b[1;32m     11\u001b[0m         \u001b[0mf_c\u001b[0m\u001b[0;34m.\u001b[0m\u001b[0mappend\u001b[0m\u001b[0;34m(\u001b[0m\u001b[0mf\u001b[0m\u001b[0;34m.\u001b[0m\u001b[0mtoarray\u001b[0m\u001b[0;34m(\u001b[0m\u001b[0;34m)\u001b[0m\u001b[0;34m)\u001b[0m\u001b[0;34m\u001b[0m\u001b[0m\n\u001b[1;32m     12\u001b[0m     \u001b[0mf_c\u001b[0m \u001b[0;34m=\u001b[0m \u001b[0mnp\u001b[0m\u001b[0;34m.\u001b[0m\u001b[0marray\u001b[0m\u001b[0;34m(\u001b[0m\u001b[0mf_c\u001b[0m\u001b[0;34m)\u001b[0m\u001b[0;34m\u001b[0m\u001b[0m\n",
      "\u001b[0;31mIndexError\u001b[0m: boolean index did not match indexed array along dimension 0; dimension is 10000 but corresponding boolean dimension is 763851"
     ]
    }
   ],
   "source": [
    "joint_d = joint_distr_density(coin_val, inc, n_v, n)"
   ]
  },
  {
   "cell_type": "code",
   "execution_count": null,
   "metadata": {
    "collapsed": true
   },
   "outputs": [],
   "source": []
  },
  {
   "cell_type": "code",
   "execution_count": null,
   "metadata": {
    "collapsed": true
   },
   "outputs": [],
   "source": []
  },
  {
   "cell_type": "code",
   "execution_count": null,
   "metadata": {
    "collapsed": true
   },
   "outputs": [],
   "source": []
  },
  {
   "cell_type": "code",
   "execution_count": null,
   "metadata": {
    "collapsed": true
   },
   "outputs": [],
   "source": []
  },
  {
   "cell_type": "code",
   "execution_count": null,
   "metadata": {
    "collapsed": true
   },
   "outputs": [],
   "source": []
  },
  {
   "cell_type": "code",
   "execution_count": null,
   "metadata": {
    "collapsed": true
   },
   "outputs": [],
   "source": []
  }
 ],
 "metadata": {
  "kernelspec": {
   "display_name": "python3.5",
   "language": "python",
   "name": "python3.5"
  },
  "language_info": {
   "codemirror_mode": {
    "name": "ipython",
    "version": 3
   },
   "file_extension": ".py",
   "mimetype": "text/x-python",
   "name": "python",
   "nbconvert_exporter": "python",
   "pygments_lexer": "ipython3",
   "version": "3.5.3"
  }
 },
 "nbformat": 4,
 "nbformat_minor": 2
}
