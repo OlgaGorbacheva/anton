{
 "cells": [
  {
   "cell_type": "code",
   "execution_count": 1,
   "metadata": {
    "collapsed": false
   },
   "outputs": [],
   "source": [
    "import pandas as pd\n",
    "import numpy as np\n",
    "from scipy import sparse\n",
    "from tqdm import tqdm"
   ]
  },
  {
   "cell_type": "code",
   "execution_count": 2,
   "metadata": {
    "collapsed": false
   },
   "outputs": [
    {
     "data": {
      "text/html": [
       "<div>\n",
       "<style scoped>\n",
       "    .dataframe tbody tr th:only-of-type {\n",
       "        vertical-align: middle;\n",
       "    }\n",
       "\n",
       "    .dataframe tbody tr th {\n",
       "        vertical-align: top;\n",
       "    }\n",
       "\n",
       "    .dataframe thead th {\n",
       "        text-align: right;\n",
       "    }\n",
       "</style>\n",
       "<table border=\"1\" class=\"dataframe\">\n",
       "  <thead>\n",
       "    <tr style=\"text-align: right;\">\n",
       "      <th></th>\n",
       "      <th>0</th>\n",
       "      <th>1</th>\n",
       "      <th>2</th>\n",
       "    </tr>\n",
       "  </thead>\n",
       "  <tbody>\n",
       "    <tr>\n",
       "      <th>0</th>\n",
       "      <td>1394351059</td>\n",
       "      <td>621.0</td>\n",
       "      <td>0.01</td>\n",
       "    </tr>\n",
       "    <tr>\n",
       "      <th>1</th>\n",
       "      <td>1394351073</td>\n",
       "      <td>620.0</td>\n",
       "      <td>0.01</td>\n",
       "    </tr>\n",
       "    <tr>\n",
       "      <th>2</th>\n",
       "      <td>1394427477</td>\n",
       "      <td>620.0</td>\n",
       "      <td>0.01</td>\n",
       "    </tr>\n",
       "    <tr>\n",
       "      <th>3</th>\n",
       "      <td>1394427596</td>\n",
       "      <td>620.5</td>\n",
       "      <td>0.01</td>\n",
       "    </tr>\n",
       "    <tr>\n",
       "      <th>4</th>\n",
       "      <td>1394427614</td>\n",
       "      <td>621.0</td>\n",
       "      <td>0.01</td>\n",
       "    </tr>\n",
       "  </tbody>\n",
       "</table>\n",
       "</div>"
      ],
      "text/plain": [
       "            0      1     2\n",
       "0  1394351059  621.0  0.01\n",
       "1  1394351073  620.0  0.01\n",
       "2  1394427477  620.0  0.01\n",
       "3  1394427596  620.5  0.01\n",
       "4  1394427614  621.0  0.01"
      ]
     },
     "execution_count": 2,
     "metadata": {},
     "output_type": "execute_result"
    }
   ],
   "source": [
    "df = pd.read_csv('1coinUSD.csv', header=None)\n",
    "df.head()"
   ]
  },
  {
   "cell_type": "code",
   "execution_count": 3,
   "metadata": {
    "collapsed": false
   },
   "outputs": [],
   "source": [
    "coin_val = df.values[:,1]\n",
    "coin_val = coin_val[:100000]"
   ]
  },
  {
   "cell_type": "code",
   "execution_count": 4,
   "metadata": {
    "collapsed": true
   },
   "outputs": [],
   "source": [
    "def normalize(arr):\n",
    "    max_val = np.max(arr)\n",
    "    min_val = np.min(arr)\n",
    "    arr = (arr - min_val) / max_val\n",
    "    return arr"
   ]
  },
  {
   "cell_type": "code",
   "execution_count": 5,
   "metadata": {
    "collapsed": false
   },
   "outputs": [],
   "source": [
    "coin_val_normed = normalize(coin_val)"
   ]
  },
  {
   "cell_type": "code",
   "execution_count": 6,
   "metadata": {
    "collapsed": false
   },
   "outputs": [
    {
     "name": "stdout",
     "output_type": "stream",
     "text": [
      "464 10000\n"
     ]
    }
   ],
   "source": [
    "import math\n",
    "T = 10000\n",
    "n = math.floor(math.pow(T, 2 / 3))\n",
    "print(n, T)"
   ]
  },
  {
   "cell_type": "code",
   "execution_count": 7,
   "metadata": {
    "collapsed": true
   },
   "outputs": [],
   "source": [
    "def distr_density(var, N):\n",
    "    f_T = np.zeros((n, ))\n",
    "    gist = []\n",
    "    for j in range(n):\n",
    "        a = j / n\n",
    "        b = (j + 1) / n\n",
    "        gist.append((a, b))\n",
    "        f_T[j] = np.sum(np.logical_and(var >= a, var < b))\n",
    "    return sparse.csc_matrix(f_T, dtype=np.int), np.array(gist)"
   ]
  },
  {
   "cell_type": "code",
   "execution_count": 8,
   "metadata": {
    "collapsed": false
   },
   "outputs": [
    {
     "name": "stdout",
     "output_type": "stream",
     "text": [
      "(1, 464)\n"
     ]
    }
   ],
   "source": [
    "dens, _ = distr_density(coin_val_normed[:T], n)\n",
    "print(dens.shape)"
   ]
  },
  {
   "cell_type": "code",
   "execution_count": 8,
   "metadata": {
    "collapsed": true
   },
   "outputs": [],
   "source": [
    "def get_gist_bin(gist, element):\n",
    "    for i, (a, b) in enumerate(gist):\n",
    "        if (a <= element < b):\n",
    "            return i"
   ]
  },
  {
   "cell_type": "code",
   "execution_count": 24,
   "metadata": {
    "collapsed": true
   },
   "outputs": [],
   "source": [
    "def window_distr_density(var, N):\n",
    "    f_T1, gist = distr_density(var[:T], N)\n",
    "    f_T_arr = [f_T1]\n",
    "    for i in tqdm(range(1, var.shape[0] - T)):\n",
    "        f_T_curr = f_T_arr[-1].toarray()\n",
    "        f_T_curr[0][get_gist_bin(gist, var[i - 1])] -= 1\n",
    "        f_T_curr[0][get_gist_bin(gist, var[i + T])] += 1\n",
    "        f_T_arr.append(sparse.csc_matrix(f_T_curr, dtype=np.int))\n",
    "    return sparse.vstack(f_T_arr, format='csc')"
   ]
  },
  {
   "cell_type": "code",
   "execution_count": 11,
   "metadata": {
    "collapsed": false,
    "scrolled": true
   },
   "outputs": [
    {
     "name": "stderr",
     "output_type": "stream",
     "text": [
      "100%|██████████| 89999/89999 [01:27<00:00, 1026.38it/s]\n"
     ]
    }
   ],
   "source": [
    "densities = window_distr_density(coin_val_normed, n)\n",
    "#print(densities)"
   ]
  },
  {
   "cell_type": "code",
   "execution_count": 12,
   "metadata": {
    "collapsed": false,
    "scrolled": true
   },
   "outputs": [
    {
     "name": "stdout",
     "output_type": "stream",
     "text": [
      "(90000, 464)\n",
      "<class 'scipy.sparse.csc.csc_matrix'>\n"
     ]
    }
   ],
   "source": [
    "print(densities.shape)\n",
    "print(type(densities))"
   ]
  },
  {
   "cell_type": "code",
   "execution_count": 13,
   "metadata": {
    "collapsed": true
   },
   "outputs": [],
   "source": [
    "sparse.save_npz(\"densities_csc.npz\", densities)"
   ]
  },
  {
   "cell_type": "code",
   "execution_count": 9,
   "metadata": {
    "collapsed": false
   },
   "outputs": [],
   "source": [
    "densities = sparse.load_npz(\"densities_csc.npz\")"
   ]
  },
  {
   "cell_type": "code",
   "execution_count": 10,
   "metadata": {
    "collapsed": true
   },
   "outputs": [],
   "source": [
    "def get_increases(var):\n",
    "    v = var[1:] - var[:-1]\n",
    "    return v"
   ]
  },
  {
   "cell_type": "code",
   "execution_count": 11,
   "metadata": {
    "collapsed": false
   },
   "outputs": [],
   "source": [
    "inc = get_increases(coin_val_normed)"
   ]
  },
  {
   "cell_type": "code",
   "execution_count": 12,
   "metadata": {
    "collapsed": false
   },
   "outputs": [
    {
     "name": "stdout",
     "output_type": "stream",
     "text": [
      "(99999,)\n"
     ]
    }
   ],
   "source": [
    "print(inc.shape)"
   ]
  },
  {
   "cell_type": "code",
   "execution_count": 13,
   "metadata": {
    "collapsed": true
   },
   "outputs": [],
   "source": [
    "n_v = 100"
   ]
  },
  {
   "cell_type": "code",
   "execution_count": 14,
   "metadata": {
    "collapsed": true
   },
   "outputs": [],
   "source": [
    "def get_integrated(matrix, v_mean):\n",
    "    return np.array([np.sum(np.multiply(matrix[:, i], v_mean)) for i in range(matrix.shape[1])])"
   ]
  },
  {
   "cell_type": "code",
   "execution_count": 15,
   "metadata": {
    "collapsed": true
   },
   "outputs": [],
   "source": [
    "def get_rev_dens(dens, i):\n",
    "    densit = dens[i].toarray()[0].astype(dtype=float)\n",
    "    densit[densit == 0] = 0.0000001\n",
    "    return 1/densit"
   ]
  },
  {
   "cell_type": "code",
   "execution_count": 16,
   "metadata": {
    "collapsed": false
   },
   "outputs": [],
   "source": [
    "def get_u_matrix(var, v, N_v, N, dens):\n",
    "    v_gist = [(j * 2 / N_v - 1, (j + 1) * 2 / N_v - 1) for j in range(N_v)]\n",
    "    v_mean = np.array([(a + b) / 2 for a, b in v_gist])\n",
    "    f_gist = [(j / N, (j + 1) / N) for j in range(N)]\n",
    "    v_c = v[:T]\n",
    "    var_c = var[:T]\n",
    "    f_c = []\n",
    "    for a, b in v_gist:\n",
    "        v_ind = np.logical_and(v_c >= a, v_c < b)\n",
    "        f, _ = distr_density(var_c[v_ind], n)\n",
    "        f_c.append(f.toarray()[0])\n",
    "    f_c = np.array(f_c)\n",
    "    u = [sparse.csc_matrix(np.multiply(get_integrated(f_c, v_mean), get_rev_dens(dens, 0)))]\n",
    "    for i in tqdm(range(1, var.shape[0] - T - 1)):\n",
    "        f_c[get_gist_bin(v_gist, v[i - 1])][get_gist_bin(f_gist, var[i - 1])] -= 1\n",
    "        f_c[get_gist_bin(v_gist, v[i + T])][get_gist_bin(f_gist, var[i + T])] += 1\n",
    "        u.append(sparse.csc_matrix(np.multiply(get_integrated(f_c, v_mean), get_rev_dens(dens, i))))\n",
    "    return sparse.vstack(u, format='csc')"
   ]
  },
  {
   "cell_type": "code",
   "execution_count": 17,
   "metadata": {
    "collapsed": false,
    "scrolled": true
   },
   "outputs": [
    {
     "name": "stderr",
     "output_type": "stream",
     "text": [
      "100%|██████████| 89998/89998 [33:05<00:00, 45.32it/s]\n"
     ]
    }
   ],
   "source": [
    "u_matrix = get_u_matrix(coin_val_normed, inc, n_v, n, densities)"
   ]
  },
  {
   "cell_type": "code",
   "execution_count": 21,
   "metadata": {
    "collapsed": false,
    "scrolled": true
   },
   "outputs": [],
   "source": [
    "def get_lambda_vec(var):\n",
    "    l = np.zeros(var.shape[0] - T)\n",
    "    for t in tqdm(range(T, var.shape[0] - 1)):\n",
    "        l[t - T] = 1 / T * ((var[t - T:t] - var[t - T + 1: t + 1]) ** 2).sum()\n",
    "        l[t - T] += 1 / (T ** 2) * (var[t] - var[t - T])\n",
    "    return l"
   ]
  },
  {
   "cell_type": "code",
   "execution_count": 22,
   "metadata": {
    "collapsed": false
   },
   "outputs": [
    {
     "name": "stderr",
     "output_type": "stream",
     "text": [
      "100%|██████████| 89999/89999 [00:04<00:00, 19925.35it/s]\n"
     ]
    }
   ],
   "source": [
    "lambda_vec = get_lambda_vec(coin_val_normed)"
   ]
  },
  {
   "cell_type": "code",
   "execution_count": 25,
   "metadata": {
    "collapsed": false
   },
   "outputs": [
    {
     "name": "stderr",
     "output_type": "stream",
     "text": [
      "100%|██████████| 89999/89999 [01:26<00:00, 1036.66it/s]\n"
     ]
    }
   ],
   "source": [
    "h = n * 100\n",
    "small_step_dens = window_distr_density(coin_val_normed, n)"
   ]
  },
  {
   "cell_type": "code",
   "execution_count": 20,
   "metadata": {
    "collapsed": true
   },
   "outputs": [],
   "source": [
    "sparse.save_npz(\"u_matrix_csc.npz\", u_matrix)"
   ]
  },
  {
   "cell_type": "code",
   "execution_count": null,
   "metadata": {
    "collapsed": true
   },
   "outputs": [],
   "source": []
  },
  {
   "cell_type": "code",
   "execution_count": null,
   "metadata": {
    "collapsed": true
   },
   "outputs": [],
   "source": []
  }
 ],
 "metadata": {
  "kernelspec": {
   "display_name": "python3.5",
   "language": "python",
   "name": "python3.5"
  },
  "language_info": {
   "codemirror_mode": {
    "name": "ipython",
    "version": 3
   },
   "file_extension": ".py",
   "mimetype": "text/x-python",
   "name": "python",
   "nbconvert_exporter": "python",
   "pygments_lexer": "ipython3",
   "version": "3.5.3"
  }
 },
 "nbformat": 4,
 "nbformat_minor": 2
}
